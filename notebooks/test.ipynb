{
 "cells": [
  {
   "cell_type": "code",
   "execution_count": 1,
   "metadata": {},
   "outputs": [
    {
     "name": "stdout",
     "output_type": "stream",
     "text": [
      "Note: you may need to restart the kernel to use updated packages.\n"
     ]
    }
   ],
   "source": [
    "%pip install -q -e ..\n",
    "%reload_ext autoreload\n",
    "%autoreload 2"
   ]
  },
  {
   "cell_type": "code",
   "execution_count": 2,
   "metadata": {},
   "outputs": [
    {
     "ename": "ModuleNotFoundError",
     "evalue": "No module named 'thesis'",
     "output_type": "error",
     "traceback": [
      "\u001b[31m---------------------------------------------------------------------------\u001b[39m",
      "\u001b[31mModuleNotFoundError\u001b[39m                       Traceback (most recent call last)",
      "\u001b[36mCell\u001b[39m\u001b[36m \u001b[39m\u001b[32mIn[2]\u001b[39m\u001b[32m, line 1\u001b[39m\n\u001b[32m----> \u001b[39m\u001b[32m1\u001b[39m \u001b[38;5;28;01mfrom\u001b[39;00m\u001b[38;5;250m \u001b[39m\u001b[34;01mthesis\u001b[39;00m\u001b[34;01m.\u001b[39;00m\u001b[34;01mfuzzy\u001b[39;00m\u001b[34;01m.\u001b[39;00m\u001b[34;01mmembership\u001b[39;00m\u001b[38;5;250m \u001b[39m\u001b[38;5;28;01mimport\u001b[39;00m compute_ndg_streaming, compute_ndg_dense\n\u001b[32m      3\u001b[39m \u001b[38;5;66;03m# quick sanity-plot\u001b[39;00m\n\u001b[32m      4\u001b[39m \u001b[38;5;28;01mimport\u001b[39;00m\u001b[38;5;250m \u001b[39m\u001b[34;01mnumpy\u001b[39;00m\u001b[38;5;250m \u001b[39m\u001b[38;5;28;01mas\u001b[39;00m\u001b[38;5;250m \u001b[39m\u001b[34;01mnp\u001b[39;00m,\u001b[38;5;250m \u001b[39m\u001b[34;01mmatplotlib\u001b[39;00m\u001b[34;01m.\u001b[39;00m\u001b[34;01mpyplot\u001b[39;00m\u001b[38;5;250m \u001b[39m\u001b[38;5;28;01mas\u001b[39;00m\u001b[38;5;250m \u001b[39m\u001b[34;01mplt\u001b[39;00m\n",
      "\u001b[31mModuleNotFoundError\u001b[39m: No module named 'thesis'"
     ]
    }
   ],
   "source": [
    "from thesis.fuzzy.membership import compute_ndg_streaming, compute_ndg_dense\n",
    "\n",
    "# quick sanity-plot\n",
    "import numpy as np, matplotlib.pyplot as plt\n",
    "x = np.linspace(-4, 4, 800)\n",
    "data = np.array([-2, 0, 2])\n",
    "sigma = 0.7\n",
    "plt.plot(x, compute_ndg_dense(x, data, sigma), label=\"dense\")\n",
    "plt.plot(x, compute_ndg_streaming(x, data, sigma), \"--\", label=\"stream\")\n",
    "plt.legend(); plt.show()"
   ]
  },
  {
   "cell_type": "code",
   "execution_count": null,
   "metadata": {},
   "outputs": [],
   "source": []
  },
  {
   "cell_type": "code",
   "execution_count": 2,
   "metadata": {},
   "outputs": [],
   "source": [
    "%load_ext autoreload\n",
    "%autoreload 2"
   ]
  },
  {
   "cell_type": "code",
   "execution_count": 3,
   "metadata": {},
   "outputs": [
    {
     "ename": "ModuleNotFoundError",
     "evalue": "No module named 'new_source'",
     "output_type": "error",
     "traceback": [
      "\u001b[31m---------------------------------------------------------------------------\u001b[39m",
      "\u001b[31mModuleNotFoundError\u001b[39m                       Traceback (most recent call last)",
      "\u001b[36mCell\u001b[39m\u001b[36m \u001b[39m\u001b[32mIn[3]\u001b[39m\u001b[32m, line 1\u001b[39m\n\u001b[32m----> \u001b[39m\u001b[32m1\u001b[39m \u001b[38;5;28;01mfrom\u001b[39;00m\u001b[38;5;250m \u001b[39m\u001b[34;01mnew_source\u001b[39;00m\u001b[34;01m.\u001b[39;00m\u001b[34;01mrun\u001b[39;00m\u001b[38;5;250m \u001b[39m\u001b[38;5;28;01mimport\u001b[39;00m run_cases\n",
      "\u001b[31mModuleNotFoundError\u001b[39m: No module named 'new_source'"
     ]
    }
   ],
   "source": [
    "from new_source.run import run_cases"
   ]
  },
  {
   "cell_type": "code",
   "execution_count": null,
   "metadata": {},
   "outputs": [],
   "source": [
    "results_df = run_cases()\n",
    "print(results_df)"
   ]
  },
  {
   "cell_type": "code",
   "execution_count": null,
   "metadata": {},
   "outputs": [],
   "source": [
    "norm_only_df = results_df[results_df[\"Normalized\"]]"
   ]
  },
  {
   "cell_type": "code",
   "execution_count": null,
   "metadata": {},
   "outputs": [],
   "source": [
    "# Assuming results_df is already loaded from running run_cases()\n",
    "\n",
    "# --- Optional Filtering ---\n",
    "# Uncomment the next line to filter for a specific normalization status (e.g., True)\n",
    "# results_df_filtered = results_df[results_df['Normalized'] == True].copy()\n",
    "# Or, use the full DataFrame:\n",
    "results_df_filtered = results_df.copy()\n",
    "# --------------------------\n",
    "\n",
    "# # --- Remove relative sigma options ('r...') ---\n",
    "# # Ensure the 'Sigma_Option' column is of string type first\n",
    "# results_df_filtered['Sigma_Option'] = results_df_filtered['Sigma_Option'].astype(str)\n",
    "# # Create a boolean mask for rows that start with 'r'\n",
    "# mask_starts_with_r = results_df_filtered['Sigma_Option'].str.startswith('r').fillna(False)\n",
    "# # Apply the mask using boolean indexing with '~' to keep rows that DO NOT start with 'r'\n",
    "# results_df_filtered = results_df_filtered[~mask_starts_with_r].copy()\n",
    "# --- End removal ---\n",
    "\n",
    "# --- Simplify Grouping and Display Columns ---\n",
    "# Initial columns, assuming Method='nd' and Empirical_Method='kde'\n",
    "grouping_cols = [\"Case\", \"Normalized\"]\n",
    "display_cols = [\"Case\", \"Normalized\", \"Sigma_Option\", \"Sigma\"]\n",
    "\n",
    "# Check if 'Normalized' has only one unique value after potential filtering.\n",
    "# If so, remove it from grouping and display cols as well.\n",
    "if (\n",
    "    \"Normalized\" in results_df_filtered.columns\n",
    "    and results_df_filtered[\"Normalized\"].nunique() == 1\n",
    "):\n",
    "    grouping_cols.remove(\"Normalized\")\n",
    "    display_cols.remove(\"Normalized\")\n",
    "    print(\"Note: Analyzing results for a single normalization status.\")\n",
    "elif \"Normalized\" not in results_df_filtered.columns and \"Normalized\" in grouping_cols:\n",
    "    # Handle case where it wasn't in the original df but was in default list\n",
    "    grouping_cols.remove(\"Normalized\")\n",
    "    display_cols.remove(\"Normalized\")\n",
    "# ---------------------------------------------\n",
    "\n",
    "# --- Get Top 2 based on metrics ---\n",
    "# Group by the simplified columns\n",
    "grouped = results_df_filtered.groupby(grouping_cols, group_keys=False)\n",
    "\n",
    "top2_aic = grouped.apply(lambda x: x.sort_values(\"AIC_s1\").head(2))\n",
    "top2_bic = grouped.apply(lambda x: x.sort_values(\"BIC_s1\").head(2))\n",
    "top2_mse = grouped.apply(lambda x: x.sort_values(\"MSE_s1\").head(2))\n",
    "# top2_kl = grouped.apply(lambda x: x.sort_values('KL_Divergence_s1').head(2)) # Uncomment if needed\n",
    "\n",
    "# --- Display simplified results ---\n",
    "print(\"--- Top 2 Sigma options based on AIC (Method=nd, Empirical=kde) ---\")\n",
    "# Add the metric column itself to the display\n",
    "print(top2_aic[display_cols + [\"AIC_s1\"]])\n",
    "print(\"-\" * 50)  # Separator\n",
    "\n",
    "print(\"\\n--- Top 2 Sigma options based on BIC (Method=nd, Empirical=kde) ---\")\n",
    "print(top2_bic[display_cols + [\"BIC_s1\"]])\n",
    "print(\"-\" * 50)  # Separator\n",
    "\n",
    "print(\"\\n--- Top 2 Sigma options based on MSE (Method=nd, Empirical=kde) ---\")\n",
    "print(top2_mse[display_cols + [\"MSE_s1\"]])\n",
    "print(\"-\" * 50)  # Separator\n",
    "\n",
    "# print(f\"\\n--- Top 2 Sigma options based on KL Divergence (Method=nd, Empirical=kde) ---\") # Uncomment if needed\n",
    "# print(top2_kl[display_cols + ['KL_Divergence_s1']])\n",
    "# print(\"-\" * 50) # Separator"
   ]
  },
  {
   "cell_type": "code",
   "execution_count": null,
   "metadata": {},
   "outputs": [],
   "source": [
    "import matplotlib.pyplot as plt\n",
    "import seaborn as sns\n",
    "\n",
    "# Filter data for a specific case and method\n",
    "\n",
    "df_case = results_df[\n",
    "    (not results_df[\"Normalized\"]) & (results_df[\"Empirical_Method\"] == \"counts\")\n",
    "]\n",
    "\n",
    "# Calculate the means across the same Sigma_Option\n",
    "df_case = (\n",
    "    df_case[\n",
    "        [\n",
    "            \"Similarity_Overlap\",\n",
    "            \"Distance_Euclidean\",\n",
    "            \"MSE_s1\",\n",
    "            \"KL_Divergence_s1\",\n",
    "            \"AIC_s1\",\n",
    "            \"BIC_s1\",\n",
    "            \"Sigma_Option\",\n",
    "            \"Method\",\n",
    "        ]\n",
    "    ]\n",
    "    .groupby([\"Sigma_Option\", \"Method\"])\n",
    "    .mean()\n",
    "    .reset_index()\n",
    ")\n",
    "\n",
    "fig, axes = plt.subplots(2, 3, figsize=(18, 10))  # 2 rows, 3 columns\n",
    "axes = axes.flatten()  # Flatten the axes array for easy indexing\n",
    "\n",
    "# Define the metric names\n",
    "metrics = [\n",
    "    \"Similarity_Overlap\",\n",
    "    \"Distance_Euclidean\",\n",
    "    \"MSE_s1\",\n",
    "    \"KL_Divergence_s1\",\n",
    "    \"AIC_s1\",\n",
    "    \"BIC_s1\",\n",
    "]\n",
    "\n",
    "# Plot each metric in a separate subplot\n",
    "for i, metric in enumerate(metrics):\n",
    "    sns.stripplot(\n",
    "        data=df_case, x=\"Sigma_Option\", y=metric, ax=axes[i], hue=\"Method\", marker=\"o\"\n",
    "    )\n",
    "    axes[i].set_title(f\"{metric} vs. Sigma_Option\")\n",
    "    axes[i].set_xlabel(\"Sigma_Option\")\n",
    "    axes[i].set_ylabel(metric)\n",
    "    axes[i].tick_params(\n",
    "        axis=\"x\", rotation=45\n",
    "    )  # Rotate x-axis labels for better readability\n",
    "\n",
    "# Adjust layout to prevent overlap\n",
    "plt.tight_layout()\n",
    "\n",
    "# Show the plot\n",
    "plt.show()"
   ]
  },
  {
   "cell_type": "code",
   "execution_count": null,
   "metadata": {},
   "outputs": [],
   "source": []
  }
 ],
 "metadata": {
  "kernelspec": {
   "display_name": "Python (thesis-dev) 2",
   "language": "python",
   "name": "thesis-dev"
  },
  "language_info": {
   "codemirror_mode": {
    "name": "ipython",
    "version": 3
   },
   "file_extension": ".py",
   "mimetype": "text/x-python",
   "name": "python",
   "nbconvert_exporter": "python",
   "pygments_lexer": "ipython3",
   "version": "3.13.3"
  }
 },
 "nbformat": 4,
 "nbformat_minor": 4
}
